{
 "cells": [
  {
   "cell_type": "code",
   "execution_count": 1,
   "metadata": {
    "collapsed": true
   },
   "outputs": [],
   "source": [
    "import boto3"
   ]
  },
  {
   "cell_type": "code",
   "execution_count": 2,
   "metadata": {
    "collapsed": true
   },
   "outputs": [],
   "source": [
    "ec2 = boto3.resource('ec2')"
   ]
  },
  {
   "cell_type": "code",
   "execution_count": 3,
   "metadata": {
    "collapsed": false,
    "scrolled": true
   },
   "outputs": [
    {
     "name": "stdout",
     "output_type": "stream",
     "text": [
      "qosmo-nep-lit i-0cd4102b61f207565 p2.xlarge\n",
      "qosmo-nep-lit i-03dbffdafc6718fdd p2.xlarge\n",
      "qosmo-nep-lit i-00ea1a5d54ae784a3 p2.xlarge\n",
      "qosmo-nep-lit i-0502f038027977ced p2.xlarge\n",
      "qosmo-nep-lit i-0b11597c707e7f6d5 p2.xlarge\n",
      "qosmo-nep-lit i-00d80fb02f9e1bac7 p2.xlarge\n",
      "qosmo-nep-lit i-092ce1894ca70a703 p2.xlarge\n",
      "qosmo-nep-lit i-0ae3182791d294aec p2.xlarge\n",
      "qosmo-nep-lit i-03991fb1d85143980 p2.xlarge\n",
      "qosmo-nep-lit i-0bbe281219859ec01 p2.xlarge\n",
      "qosmo-nep-lit i-0f9f99102e10d2e1e p2.xlarge\n",
      "qosmo-nep-lit i-048ef8b0f523dfbae p2.xlarge\n",
      "qosmo-nep-lit i-0f79e9506de518d61 p2.xlarge\n",
      "qosmo-nep-lit i-02f8099fde2cd5157 p2.xlarge\n",
      "qosmo-nep-lit i-04a96753c37342d35 p2.xlarge\n",
      "qosmo-nep-lit i-0666b84e4f978d2cb p2.xlarge\n",
      "qosmo-nep-lit i-0a00b9c6fba4c19fe p2.xlarge\n",
      "qosmo-nep-lit i-094ad89192a309f0f p2.xlarge\n",
      "qosmo-nep-lit i-097c109e198b4503a p2.xlarge\n",
      "qosmo-nep-lit i-0fe6e16d9e9f2f719 p2.xlarge\n",
      "qosmo-nep-lit i-008356ff06d304a27 p2.xlarge\n",
      "qosmo-nep-lit i-05301c890343bef0a p2.xlarge\n",
      "qosmo-nep-lit i-098b24ff5145d1392 p2.xlarge\n",
      "qosmo-nep-lit i-0b5fd254f7edd763f p2.xlarge\n",
      "qosmo-nep-lit i-0ddef800b57a4550e p2.xlarge\n",
      "qosmo-nep-lit i-076ff931c3651d35f p2.xlarge\n",
      "qosmo-nep-lit i-00aa4ccb7bc2ee773 p2.xlarge\n",
      "qosmo-nep-lit i-0f49c7505fa249e1f p2.xlarge\n",
      "qosmo-nep-lit i-09ae722811105c3f7 p2.xlarge\n",
      "qosmo-nep-lit i-05724ea6a4e953966 p2.xlarge\n",
      "qosmo-nep-lit i-0c406cfc7f31ccb9d p2.xlarge\n",
      "qosmo-nep-lit i-0e2888d6ae6405c6f p2.xlarge\n",
      "qosmo-nep-lit i-069e48558e59a4497 p2.xlarge\n",
      "qosmo-nep-lit i-0d3c441474e0c9b71 p2.xlarge\n",
      "qosmo-nep-lit i-0eab24bcde5260c12 p2.xlarge\n",
      "qosmo-nep-lit i-081c35cb1672b2405 p2.xlarge\n",
      "qosmo-nep-lit i-0b327bd5d66dcf083 p2.xlarge\n",
      "qosmo-nep-lit i-0dca9fab6396f8477 p2.xlarge\n",
      "qosmo-nep-lit i-025b6e03ef842c53a p2.xlarge\n",
      "qosmo-nep-lit i-0b0c6cee6f77818ad p2.xlarge\n",
      "qosmo-nep-lit i-0d4c96e94500cbdac p2.xlarge\n",
      "qosmo-nep-lit i-05cbe416cd604bfa4 p2.xlarge\n",
      "qosmo-nep-lit i-067bc264bfffe3e62 p2.xlarge\n",
      "qosmo-nep-lit i-04ee06d3d12f9a75f p2.xlarge\n",
      "qosmo-nep-lit i-0d732748bb5fb62ab p2.xlarge\n",
      "qosmo-nep-lit i-04fea0e1566b01139 p2.xlarge\n",
      "qosmo-nep-lit i-0177906fe5a131e52 p2.xlarge\n",
      "qosmo-nep-lit i-0eabced691a2ed157 p2.xlarge\n",
      "qosmo-nep-lit i-0d5ccbc3b2f81ae3b p2.xlarge\n"
     ]
    }
   ],
   "source": [
    "instance_id_list = []\n",
    "for i in ec2.instances.all():\n",
    "    if i.key_name == \"qosmo-nep-lit\":\n",
    "        print i.key_name, i.instance_id, i.instance_type\n",
    "        instance_id_list.append(i)"
   ]
  },
  {
   "cell_type": "markdown",
   "metadata": {},
   "source": [
    "## 止めるコマンド"
   ]
  },
  {
   "cell_type": "code",
   "execution_count": 5,
   "metadata": {
    "collapsed": false
   },
   "outputs": [
    {
     "ename": "AttributeError",
     "evalue": "'str' object has no attribute 'stop'",
     "output_type": "error",
     "traceback": [
      "\u001b[0;31m---------------------------------------------------------------------------\u001b[0m",
      "\u001b[0;31mAttributeError\u001b[0m                            Traceback (most recent call last)",
      "\u001b[0;32m<ipython-input-5-73a7f1ebbdbd>\u001b[0m in \u001b[0;36m<module>\u001b[0;34m()\u001b[0m\n\u001b[1;32m      1\u001b[0m \u001b[0;32mfor\u001b[0m \u001b[0midx\u001b[0m \u001b[0;32min\u001b[0m \u001b[0minstance_id_list\u001b[0m\u001b[0;34m:\u001b[0m\u001b[0;34m\u001b[0m\u001b[0m\n\u001b[0;32m----> 2\u001b[0;31m     \u001b[0midx\u001b[0m\u001b[0;34m.\u001b[0m\u001b[0mstop\u001b[0m\u001b[0;34m(\u001b[0m\u001b[0;34m)\u001b[0m\u001b[0;34m\u001b[0m\u001b[0m\n\u001b[0m",
      "\u001b[0;31mAttributeError\u001b[0m: 'str' object has no attribute 'stop'"
     ]
    }
   ],
   "source": [
    "for idx in instance_id_list:\n",
    "    idx.stop()"
   ]
  },
  {
   "cell_type": "code",
   "execution_count": null,
   "metadata": {
    "collapsed": true
   },
   "outputs": [],
   "source": []
  }
 ],
 "metadata": {
  "kernelspec": {
   "display_name": "Python 2",
   "language": "python",
   "name": "python2"
  },
  "language_info": {
   "codemirror_mode": {
    "name": "ipython",
    "version": 2
   },
   "file_extension": ".py",
   "mimetype": "text/x-python",
   "name": "python",
   "nbconvert_exporter": "python",
   "pygments_lexer": "ipython2",
   "version": "2.7.13"
  }
 },
 "nbformat": 4,
 "nbformat_minor": 0
}
